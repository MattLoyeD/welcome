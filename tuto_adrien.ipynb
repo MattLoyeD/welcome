{
  "nbformat": 4,
  "nbformat_minor": 0,
  "metadata": {
    "colab": {
      "name": "tuto-adrien.ipynb",
      "provenance": [],
      "authorship_tag": "ABX9TyMBXh/yfxkOZJSnh/rJz2Ww",
      "include_colab_link": true
    },
    "kernelspec": {
      "name": "python3",
      "display_name": "Python 3"
    }
  },
  "cells": [
    {
      "cell_type": "markdown",
      "metadata": {
        "id": "view-in-github",
        "colab_type": "text"
      },
      "source": [
        "<a href=\"https://colab.research.google.com/github/MattLoyeD/welcome/blob/master/tuto_adrien.ipynb\" target=\"_parent\"><img src=\"https://colab.research.google.com/assets/colab-badge.svg\" alt=\"Open In Colab\"/></a>"
      ]
    },
    {
      "cell_type": "markdown",
      "metadata": {
        "id": "aRFnkRIgrwV_",
        "colab_type": "text"
      },
      "source": [
        "#### Petit titre\n",
        "# Gros titre\n",
        "Texte normal"
      ]
    },
    {
      "cell_type": "code",
      "metadata": {
        "id": "OvJqfeLLr4Rr",
        "colab_type": "code",
        "colab": {
          "base_uri": "https://localhost:8080/",
          "height": 35
        },
        "outputId": "253dc003-f3b1-4a16-bb6d-24a45efec0c4"
      },
      "source": [
        "print('J aime le coloriage')"
      ],
      "execution_count": 2,
      "outputs": [
        {
          "output_type": "stream",
          "text": [
            "J aime le coloriage\n"
          ],
          "name": "stdout"
        }
      ]
    }
  ]
}